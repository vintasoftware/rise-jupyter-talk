{
 "cells": [
  {
   "cell_type": "markdown",
   "metadata": {},
   "source": [
    "# Virou passeio"
   ]
  },
  {
   "cell_type": "markdown",
   "metadata": {},
   "source": [
    "Based in: https://github.com/rjtavares/football-crunching"
   ]
  },
  {
   "cell_type": "markdown",
   "metadata": {},
   "source": [
    "### Some preprocessing"
   ]
  },
  {
   "cell_type": "markdown",
   "metadata": {},
   "source": [
    "Module imports and data preparation. You can ignore this section unless you want to play with the data yourself."
   ]
  },
  {
   "cell_type": "code",
   "execution_count": null,
   "metadata": {
    "collapsed": false
   },
   "outputs": [],
   "source": [
    "import pandas as pd\n",
    "import numpy as np\n",
    "import matplotlib.pyplot as plt\n",
    "\n",
    "from footyscripts.footyviz import draw_events, draw_pitch, type_names\n",
    "\n",
    "#plotting settings\n",
    "%matplotlib inline\n",
    "pd.options.display.mpl_style = 'default'"
   ]
  },
  {
   "cell_type": "code",
   "execution_count": null,
   "metadata": {
    "collapsed": false
   },
   "outputs": [],
   "source": [
    "import pickle\n",
    "\n",
    "df_records = pickle.load(open(\"data/wc2014.p\", \"rb\"))['brazil-vs-germany-731827']"
   ]
  },
  {
   "cell_type": "code",
   "execution_count": null,
   "metadata": {
    "collapsed": false
   },
   "outputs": [],
   "source": [
    "import pickle\n",
    "\n",
    "df_records = pickle.load(open(\"data/wc2014.p\", \"rb\"))['brazil-vs-germany-731827']['data']['events']\n",
    "for r in df_records:\n",
    "    r['team_name'] = 'Germany' if int(r['team']) == 357 else 'Brazil'\n",
    "    for key in r:\n",
    "        try:\n",
    "            r[key] = int(r[key])\n",
    "        except:\n",
    "            pass\n",
    "\n",
    "df = pd.DataFrame.from_records(df_records)\n",
    "\n",
    "#standard dimensions\n",
    "x_size = 105.0\n",
    "y_size = 68.0\n",
    "box_height = 16.5*2 + 7.32\n",
    "box_width = 16.5\n",
    "y_box_start = y_size/2-box_height/2\n",
    "y_box_end = y_size/2+box_height/2\n",
    "\n",
    "#scale of dataset is 100 by 100. Normalizing for a standard soccer pitch size\n",
    "df['x']=df['x']/100*x_size \n",
    "df['y']=df['y']/100*y_size\n",
    "df['to_x']=df['to_x']/100*x_size\n",
    "df['to_y']=df['to_y']/100*y_size\n",
    "\n",
    "#creating some measures and classifiers from the original \n",
    "df['count'] = 1\n",
    "df['dx'] = df['to_x'] - df['x']\n",
    "df['dy'] = df['to_y'] - df['y']\n",
    "df['distance'] = np.sqrt(df['dx']**2+df['dy']**2)\n",
    "df['fivemin'] = np.floor(df['min']/5)*5\n",
    "df['type_name'] = df['type'].map(type_names.get)\n",
    "df['to_box'] = (df['to_x'] > x_size - box_width) & (y_box_start < df['to_y']) & (df['to_y'] < y_box_end)\n",
    "df['from_box'] = (df['x'] > x_size - box_width) & (y_box_start < df['y']) & (df['y'] < y_box_end)\n",
    "df['on_offense'] = df['x']>x_size/2"
   ]
  },
  {
   "cell_type": "code",
   "execution_count": null,
   "metadata": {
    "collapsed": false
   },
   "outputs": [],
   "source": [
    "#preslicing of the main DataFrame in smaller DFs that will be reused along the notebook\n",
    "dfPeriod1 = df[df['period']==1]\n",
    "dfP1Shots = dfPeriod1[dfPeriod1['type'].isin([13, 14, 15, 16])]\n",
    "dfPeriod2 = df[df['period']==2]\n",
    "dfP2Shots = dfPeriod2[dfPeriod2['type'].isin([13, 14, 15, 16])]\n",
    "dfExtraTime = df[df['period']>2]\n",
    "dfETShots = dfExtraTime[dfExtraTime['type'].isin([13, 14, 15, 16])]"
   ]
  },
  {
   "cell_type": "markdown",
   "metadata": {},
   "source": [
    "## The first half"
   ]
  },
  {
   "cell_type": "markdown",
   "metadata": {},
   "source": [
    "Let's get a quick profile of the first half. The chart below shows where in the field most events took place (positive numbers correspond to Germany's offensive half, negative numbers to its defensive half), with each team's shots pointed out."
   ]
  },
  {
   "cell_type": "code",
   "execution_count": null,
   "metadata": {
    "collapsed": false
   },
   "outputs": [],
   "source": [
    "fig = plt.figure(figsize=(12,4))\n",
    "\n",
    "avg_x = (dfPeriod1[dfPeriod1['team_name']=='Germany'].groupby('min').apply(np.mean)['x'] - \n",
    "         dfPeriod1[dfPeriod1['team_name']=='Brazil'].groupby('min').apply(np.mean)['x'])\n",
    "\n",
    "plt.stackplot(list(avg_x.index.values), list([x if x>0 else 0 for x in avg_x]))\n",
    "plt.stackplot(list(avg_x.index.values), list([x if x<0 else 0 for x in avg_x]))\n",
    "\n",
    "for i, shot in dfP1Shots.iterrows():\n",
    "    x = shot['min']\n",
    "    y = avg_x.ix[shot['min']]\n",
    "    signal = 1 if shot['team_name']=='Germany' else -1\n",
    "    plt.annotate(s=(shot['type_name']+' ('+shot['team_name'][0]+\")\"), xy=(x, y), xytext=(x-5,y+30*signal), arrowprops=dict(facecolor='black'))\n",
    "\n",
    "plt.gca().set_xlabel('minute')\n",
    "plt.title(\"First Half Profile\")"
   ]
  },
  {
   "cell_type": "code",
   "execution_count": null,
   "metadata": {
    "collapsed": false
   },
   "outputs": [],
   "source": [
    "draw_pitch()\n",
    "team_name_passes = 'Brazil'\n",
    "draw_events(dfPeriod1[(dfPeriod1['type']==1) & (dfPeriod1['outcome']==1) & (dfPeriod1['team_name']==team_name_passes)], mirror_away=True)\n",
    "plt.text(x_size/4, -3, \"Brazil's defense\", color='black', bbox=dict(facecolor='white', alpha=0.5), horizontalalignment='center')\n",
    "plt.text(x_size*3/4, -3, \"Germany's defense\", color='black', bbox=dict(facecolor='white', alpha=0.5), horizontalalignment='center')\n",
    "plt.title(\"{}'s passes during the first half\".format(team_name_passes))"
   ]
  },
  {
   "cell_type": "code",
   "execution_count": null,
   "metadata": {
    "collapsed": false
   },
   "outputs": [],
   "source": [
    "dfPeriod1.groupby('team_name').agg({'x': np.mean, 'on_offense': np.mean})"
   ]
  },
  {
   "cell_type": "code",
   "execution_count": null,
   "metadata": {
    "collapsed": false
   },
   "outputs": [],
   "source": [
    "dfPeriod1[dfPeriod1['type']==1].groupby('team_name').agg({'outcome': np.mean})"
   ]
  },
  {
   "cell_type": "code",
   "execution_count": null,
   "metadata": {
    "collapsed": false
   },
   "outputs": [],
   "source": [
    "draw_pitch()\n",
    "draw_events(df[(df['to_box']==True) & (df['type']==1) & (df['from_box']==False) & (df['period']==1) & (df['outcome']==1)], mirror_away=True)\n",
    "draw_events(df[(df['to_box']==True) & (df['type']==1) & (df['from_box']==False) & (df['period']==1) & (df['outcome']==0)], mirror_away=True, alpha=0.2)\n",
    "draw_events(dfP1Shots, mirror_away=True, base_color='#a93e3e')\n",
    "plt.text(x_size/4, -3, \"Brazil's defense\", color='black', bbox=dict(facecolor='white', alpha=0.5), horizontalalignment='center')\n",
    "plt.text(x_size*3/4, -3, \"Germany's defense\", color='black', bbox=dict(facecolor='white', alpha=0.5), horizontalalignment='center')"
   ]
  },
  {
   "cell_type": "code",
   "execution_count": null,
   "metadata": {
    "collapsed": false
   },
   "outputs": [],
   "source": [
    "dfPeriod1[(dfPeriod1['to_box']==True) & (dfPeriod1['from_box']==False) & (df['type']==1)].groupby(['team_name']).agg({'outcome': np.mean,\n",
    "                                                                                                                      'count': np.sum})"
   ]
  },
  {
   "cell_type": "markdown",
   "metadata": {},
   "source": [
    "## The second half"
   ]
  },
  {
   "cell_type": "code",
   "execution_count": null,
   "metadata": {
    "collapsed": false
   },
   "outputs": [],
   "source": [
    "fig = plt.figure(figsize=(12,4))\n",
    "\n",
    "avg_x = (dfPeriod2[dfPeriod2['team_name']=='Germany'].groupby('min').apply(np.mean)['x'] - \n",
    "         dfPeriod2[dfPeriod2['team_name']=='Brazil'].groupby('min').apply(np.mean)['x'])\n",
    "\n",
    "plt.stackplot(list(avg_x.index.values), list([x if x>0 else 0 for x in avg_x]))\n",
    "plt.stackplot(list(avg_x.index.values), list([x if x<0 else 0 for x in avg_x]))\n",
    "\n",
    "for i, shot in dfP2Shots.iterrows():\n",
    "    x = shot['min']\n",
    "    y = avg_x.ix[shot['min']]\n",
    "    signal = 1 if shot['team_name']=='Germany' else -1\n",
    "    plt.annotate(s=(shot['type_name']+' ('+shot['team_name'][0]+\")\"), xy=(x, y), xytext=(x-5,y+30*signal), arrowprops=dict(facecolor='black'))\n",
    "\n",
    "plt.gca().set_xlabel('minute')\n",
    "plt.title(\"Second Half Profile\")"
   ]
  },
  {
   "cell_type": "code",
   "execution_count": null,
   "metadata": {
    "collapsed": false
   },
   "outputs": [],
   "source": [
    "dfPeriod2.groupby('team_name').agg({'x': np.mean, 'on_offense': np.mean})"
   ]
  },
  {
   "cell_type": "code",
   "execution_count": null,
   "metadata": {
    "collapsed": false
   },
   "outputs": [],
   "source": [
    "dfPeriod2[dfPeriod2['type']==1].groupby('team_name').agg({'outcome': np.mean})"
   ]
  },
  {
   "cell_type": "code",
   "execution_count": null,
   "metadata": {
    "collapsed": false
   },
   "outputs": [],
   "source": [
    "draw_pitch()\n",
    "draw_events(df[(df['to_box']==True) & (df['type']==1) & (df['from_box']==False) & (df['period']==2) & (df['outcome']==1)], mirror_away=True)\n",
    "draw_events(df[(df['to_box']==True) & (df['type']==1) & (df['from_box']==False) & (df['period']==2) & (df['outcome']==0)], mirror_away=True, alpha=0.2)\n",
    "draw_events(dfP2Shots, mirror_away=True, base_color='#a93e3e')\n",
    "plt.text(x_size/4, -3, \"Brazil's defense\", color='black', bbox=dict(facecolor='white', alpha=0.5), horizontalalignment='center')\n",
    "plt.text(x_size*3/4, -3, \"Germany's defense\", color='black', bbox=dict(facecolor='white', alpha=0.5), horizontalalignment='center')"
   ]
  },
  {
   "cell_type": "code",
   "execution_count": null,
   "metadata": {
    "collapsed": false
   },
   "outputs": [],
   "source": [
    "dfPeriod2[(dfPeriod2['to_box']==True) & (dfPeriod2['from_box']==False) & (df['type']==1)].groupby(['team_name']).agg({'outcome': np.mean,\n",
    "                                                                                                                      'count': np.sum})"
   ]
  },
  {
   "cell_type": "markdown",
   "metadata": {},
   "source": [
    "# Fact: 7x1 foi pouco"
   ]
  }
 ],
 "metadata": {
  "kernelspec": {
   "display_name": "Python 2",
   "language": "python",
   "name": "python2"
  },
  "language_info": {
   "codemirror_mode": {
    "name": "ipython",
    "version": 2
   },
   "file_extension": ".py",
   "mimetype": "text/x-python",
   "name": "python",
   "nbconvert_exporter": "python",
   "pygments_lexer": "ipython2",
   "version": "2.7.4"
  }
 },
 "nbformat": 4,
 "nbformat_minor": 0
}
