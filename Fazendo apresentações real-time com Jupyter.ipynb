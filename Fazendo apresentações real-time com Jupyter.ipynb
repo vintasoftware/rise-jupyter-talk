{
 "cells": [
  {
   "cell_type": "markdown",
   "metadata": {
    "slideshow": {
     "slide_type": "slide"
    }
   },
   "source": [
    "# Fazendo apresentações real-time com Jupyter\n",
    "\n",
    "por Flávio Juvenal  \n",
    "[@flaviojuvenal](https://twitter.com/flaviojuvenal)  \n",
    "[github.com/fjsj](http://github.com/fjsj)"
   ]
  },
  {
   "cell_type": "markdown",
   "metadata": {
    "slideshow": {
     "slide_type": "slide"
    }
   },
   "source": [
    "- Consultor e Sócio em Vinta Software: [vinta.com.br](http://www.vinta.com.br)\n",
    "- Qualidade e Boas práticas!\n",
    "- 6 anos de experiência em Python"
   ]
  },
  {
   "cell_type": "markdown",
   "metadata": {
    "slideshow": {
     "slide_type": "slide"
    }
   },
   "source": [
    "## O que é Jupyter?\n",
    "É uma aplicação web que permite a criação e compartilhamento de documentos (\"notebooks\") com código executável. Os códigos não precisam ser só em Python, podem ser em Ruby, JavaScript, Haskell, etc.\n",
    "\n",
    "Para executar outras linguagens, basta instalar o \"kernel\" daquela linguagem. O \"kernel\" aqui é o processo que roda o código disponível nos notebooks.\n",
    "\n",
    "Além disso, os notebooks podem ser exportados para outros formatos, como HTML, PDF, LaTeX, etc.\n",
    "\n",
    "http://jupyter.org/"
   ]
  },
  {
   "cell_type": "markdown",
   "metadata": {
    "slideshow": {
     "slide_type": "slide"
    }
   },
   "source": [
    "![](http://jupyter.readthedocs.io/en/latest/_images/notebook_components.png)"
   ]
  },
  {
   "cell_type": "markdown",
   "metadata": {
    "slideshow": {
     "slide_type": "slide"
    }
   },
   "source": [
    "## Exemplos de Jupyter notebooks\n",
    "Futebol, SQL, Física, Data Science, etc"
   ]
  },
  {
   "cell_type": "markdown",
   "metadata": {
    "slideshow": {
     "slide_type": "slide"
    }
   },
   "source": [
    "## Mais exemplos do que é possível fazer num Jupyter notebook...\n",
    "além de rodar código Python ou de qualquer outra linguagem que possua um kernel instalado"
   ]
  },
  {
   "cell_type": "markdown",
   "metadata": {
    "slideshow": {
     "slide_type": "slide"
    }
   },
   "source": [
    "### Rodar Bash"
   ]
  },
  {
   "cell_type": "code",
   "execution_count": null,
   "metadata": {
    "collapsed": false,
    "slideshow": {
     "slide_type": "fragment"
    }
   },
   "outputs": [],
   "source": [
    "%%bash\n",
    "date -u"
   ]
  },
  {
   "cell_type": "markdown",
   "metadata": {
    "slideshow": {
     "slide_type": "slide"
    }
   },
   "source": [
    "### Exibir Markdown\n",
    "*itálico*, **negrito**\n",
    "- listas\n",
    "- não numeradas\n",
    "\n",
    "código (não-executável):\n",
    "\n",
    "```python\n",
    "# em Python\n",
    "def f(x):\n",
    "    return x ** 2\n",
    "```\n",
    "\n",
    "```javascript\n",
    "// em qualquer outra linguagem, como JS\n",
    "window.doSomething = function (x) { return x ** 2 };\n",
    "```\n",
    "e etc..."
   ]
  },
  {
   "cell_type": "markdown",
   "metadata": {
    "slideshow": {
     "slide_type": "slide"
    }
   },
   "source": [
    "### Exibir HTML"
   ]
  },
  {
   "cell_type": "code",
   "execution_count": null,
   "metadata": {
    "collapsed": false,
    "slideshow": {
     "slide_type": "fragment"
    }
   },
   "outputs": [],
   "source": [
    "# com Python (a vantagem aqui é gerar dinamicamente o código)\n",
    "from IPython.display import HTML\n",
    "HTML('<img src=\"https://vinta-cms.s3.amazonaws.com/'+\n",
    "     'static/images/logo-footer@2x.jpg\">')"
   ]
  },
  {
   "cell_type": "code",
   "execution_count": null,
   "metadata": {
    "collapsed": false,
    "slideshow": {
     "slide_type": "fragment"
    }
   },
   "outputs": [],
   "source": [
    "%%HTML\n",
    "<!-- com HTML diretamente -->\n",
    "<img src=\"https://vinta-cms.s3.amazonaws.com/static/images/logo-footer@2x.jpg\">"
   ]
  },
  {
   "cell_type": "markdown",
   "metadata": {
    "slideshow": {
     "slide_type": "slide"
    }
   },
   "source": [
    "### Lembre dos elementos HTML5"
   ]
  },
  {
   "cell_type": "code",
   "execution_count": null,
   "metadata": {
    "collapsed": false,
    "slideshow": {
     "slide_type": "fragment"
    }
   },
   "outputs": [],
   "source": [
    "from IPython.display import Audio\n",
    "Audio(\"https://upload.wikimedia.org/wikipedia/en/2/26/Europe_-_The_Final_Countdown.ogg\")"
   ]
  },
  {
   "cell_type": "code",
   "execution_count": null,
   "metadata": {
    "collapsed": false,
    "slideshow": {
     "slide_type": "fragment"
    }
   },
   "outputs": [],
   "source": [
    "%%HTML\n",
    "<audio controls src=\"https://upload.wikimedia.org/wikipedia/en/2/26/Europe_-_The_Final_Countdown.ogg\"/>"
   ]
  },
  {
   "cell_type": "markdown",
   "metadata": {
    "slideshow": {
     "slide_type": "slide"
    }
   },
   "source": [
    "### Vídeos do YouTube"
   ]
  },
  {
   "cell_type": "code",
   "execution_count": null,
   "metadata": {
    "collapsed": false,
    "slideshow": {
     "slide_type": "fragment"
    }
   },
   "outputs": [],
   "source": [
    "from IPython.display import YouTubeVideo\n",
    "YouTubeVideo('SSbBvKaM6sk')"
   ]
  },
  {
   "cell_type": "markdown",
   "metadata": {
    "slideshow": {
     "slide_type": "slide"
    }
   },
   "source": [
    "## Com o RISE conseguimos apresentar nossos Jupyter notebooks como slides sem perder a capacidade de executar código!\n",
    "\n",
    "https://github.com/damianavila/RISE"
   ]
  },
  {
   "cell_type": "markdown",
   "metadata": {
    "slideshow": {
     "slide_type": "slide"
    }
   },
   "source": [
    "### Primeiro vamos ativar a toolbar de slides:\n",
    "<img src=\"media/slideshow toolbar.png\" width=480 height=265>"
   ]
  },
  {
   "cell_type": "markdown",
   "metadata": {
    "slideshow": {
     "slide_type": "slide"
    }
   },
   "source": [
    "### Depois ativamos o modo de slide:\n",
    "<img src=\"media/slideshow button.png\" width=461 height=95>"
   ]
  },
  {
   "cell_type": "markdown",
   "metadata": {
    "slideshow": {
     "slide_type": "slide"
    }
   },
   "source": [
    "## Eu sou um Slide"
   ]
  },
  {
   "cell_type": "markdown",
   "metadata": {
    "slideshow": {
     "slide_type": "subslide"
    }
   },
   "source": [
    "### Eu sou um Sub-Slide\n",
    "Pertenço a um slide e apareço embaixo dele. Sou o primeiro Sub-Slide, então devo aparecer depois de um Slide. Aperte espaço para me ver.  "
   ]
  },
  {
   "cell_type": "markdown",
   "metadata": {
    "slideshow": {
     "slide_type": "subslide"
    }
   },
   "source": [
    "### Eu sou um Sub-Slide 2\n",
    "Você pode colocar mais Sub-Slides depois de um Sub-Slide."
   ]
  },
  {
   "cell_type": "markdown",
   "metadata": {
    "slideshow": {
     "slide_type": "slide"
    }
   },
   "source": [
    "## Eu também sou um Slide, mas...\n",
    "Tenho Fragments dentro de mim."
   ]
  },
  {
   "cell_type": "markdown",
   "metadata": {
    "slideshow": {
     "slide_type": "fragment"
    }
   },
   "source": [
    "Sou o Fragment 1"
   ]
  },
  {
   "cell_type": "markdown",
   "metadata": {
    "slideshow": {
     "slide_type": "fragment"
    }
   },
   "source": [
    "Sou o Fragment 2"
   ]
  },
  {
   "cell_type": "markdown",
   "metadata": {
    "slideshow": {
     "slide_type": "skip"
    }
   },
   "source": [
    "Sou um Skip, não apareço nos slides, apenas na visão tradicional do notebook"
   ]
  },
  {
   "cell_type": "code",
   "execution_count": null,
   "metadata": {
    "collapsed": false,
    "slideshow": {
     "slide_type": "slide"
    }
   },
   "outputs": [],
   "source": [
    "1 + 1  # esse slide tem notas"
   ]
  },
  {
   "cell_type": "markdown",
   "metadata": {
    "slideshow": {
     "slide_type": "notes"
    }
   },
   "source": [
    "Sou um Notes, apareço só na janela extra para o palestrante ver. Para ativar a janela extra, pressione \"s\"."
   ]
  },
  {
   "cell_type": "markdown",
   "metadata": {
    "slideshow": {
     "slide_type": "slide"
    }
   },
   "source": [
    "## Configurando o visual dos slides\n",
    "Basta criar um `custom.css` no mesmo diretório do Notebook"
   ]
  },
  {
   "cell_type": "markdown",
   "metadata": {
    "slideshow": {
     "slide_type": "slide"
    }
   },
   "source": [
    "## Distribuindo notebooks\n",
    "Para distribuir os slides com os códigos executáveis, é necessário disponibilizar o próprio notebook. O usuário precisará instalar todas dependências, incluindo o Jupyter e o RISE.\n",
    "\n",
    "Porém, é possível usar o **nbconvert** para gerar versões estáticas dos slides em PDF, HTML, LaTeX etc.\n",
    "\n",
    "http://nbconvert.readthedocs.io/en/latest/"
   ]
  },
  {
   "cell_type": "markdown",
   "metadata": {
    "slideshow": {
     "slide_type": "skip"
    }
   },
   "source": [
    "Notebook examples:\n",
    "\n",
    "Futebol - https://github.com/rjtavares/football-crunching\n",
    "\n",
    "Matplotlib - https://github.com/jrjohansson/scientific-python-lectures\n",
    "\n",
    "Pandas + SQL - https://github.com/jvns/pandas-cookbook\n",
    "\n",
    "Sound of Hydrogen - https://github.com/Carreau/posts"
   ]
  }
 ],
 "metadata": {
  "celltoolbar": "Slideshow",
  "kernelspec": {
   "display_name": "Python 3",
   "language": "python",
   "name": "python3"
  },
  "language_info": {
   "codemirror_mode": {
    "name": "ipython",
    "version": 3
   },
   "file_extension": ".py",
   "mimetype": "text/x-python",
   "name": "python",
   "nbconvert_exporter": "python",
   "pygments_lexer": "ipython3",
   "version": "3.5.1"
  },
  "livereveal": {
   "start_slideshow_at": "selected"
  }
 },
 "nbformat": 4,
 "nbformat_minor": 0
}
