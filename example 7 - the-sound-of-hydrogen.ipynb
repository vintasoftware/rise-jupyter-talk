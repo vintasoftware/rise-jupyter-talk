{
 "cells": [
  {
   "cell_type": "markdown",
   "metadata": {},
   "source": [
    "# The sound Of Hydrogen"
   ]
  },
  {
   "cell_type": "markdown",
   "metadata": {},
   "source": [
    "Inspired by [minutephysics](https://www.youtube.com/watch?v=qyi5SvPlMXc), and the explanation do do it in mathematica: [The sound of hydrogen](https://www.youtube.com/watch?v=IhvW8yZdE5A).\n",
    "\n",
    "The goal of this notebook is to show how one can play a sound file in notebook, using Html5 &lt;audio&gt; tag to play it dirrectly inside the browser.\n",
    "\n",
    "To do this we use the  spectrum of hydrogen that we shift the into the audible range. You can listen to it in the last cell of this notebook.\n",
    "Wait a few second if you are on nbviewer, the notebook is not light (someone to update it to use mp3? ogg? or a compressed format?)\n",
    "\n",
    "Please be aware that the html5 player is not working on some old browser and IE."
   ]
  },
  {
   "cell_type": "markdown",
   "metadata": {},
   "source": [
    "\\[Edit\\] apparently the process of converting something not audible into sound have diffent naming: sonify,\n",
    "sonification or auralizing according to the comment on twitter."
   ]
  },
  {
   "cell_type": "code",
   "execution_count": null,
   "metadata": {
    "collapsed": false
   },
   "outputs": [],
   "source": [
    "%pylab inline"
   ]
  },
  {
   "cell_type": "code",
   "execution_count": null,
   "metadata": {
    "collapsed": false
   },
   "outputs": [],
   "source": [
    "import scipy.constants as const\n",
    "import scipy\n",
    "from scipy.io import wavfile\n",
    "from IPython.core.display import HTML\n",
    "from __future__ import division"
   ]
  },
  {
   "cell_type": "code",
   "execution_count": null,
   "metadata": {
    "collapsed": false
   },
   "outputs": [],
   "source": [
    "# this is a wrapper that take a filename and publish an html <audio> tag to listen to it\n",
    "\n",
    "import StringIO\n",
    "import base64\n",
    "\n",
    "def wavPlayer(data, rate):\n",
    "    \"\"\" will display html 5 player for compatible browser\n",
    "\n",
    "    The browser need to know how to play wav through html5.\n",
    "\n",
    "    there is no autoplay to prevent file playing when the browser opens\n",
    "    \n",
    "    Adapted from SciPy.io.\n",
    "    \"\"\"\n",
    "    \n",
    "    buffer = StringIO.StringIO()\n",
    "    buffer.write(b'RIFF')\n",
    "    buffer.write(b'\\x00\\x00\\x00\\x00')\n",
    "    buffer.write(b'WAVE')\n",
    "\n",
    "    buffer.write(b'fmt ')\n",
    "    if data.ndim == 1:\n",
    "        noc = 1\n",
    "    else:\n",
    "        noc = data.shape[1]\n",
    "    bits = data.dtype.itemsize * 8\n",
    "    sbytes = rate*(bits // 8)*noc\n",
    "    ba = noc * (bits // 8)\n",
    "    buffer.write(struct.pack('<ihHIIHH', 16, 1, noc, rate, sbytes, ba, bits))\n",
    "\n",
    "    # data chunk\n",
    "    buffer.write(b'data')\n",
    "    buffer.write(struct.pack('<i', data.nbytes))\n",
    "\n",
    "    if data.dtype.byteorder == '>' or (data.dtype.byteorder == '=' and sys.byteorder == 'big'):\n",
    "        data = data.byteswap()\n",
    "\n",
    "    buffer.write(data.tostring())\n",
    "#    return buffer.getvalue()\n",
    "    # Determine file size and place it in correct\n",
    "    #  position at start of the file.\n",
    "    size = buffer.tell()\n",
    "    buffer.seek(4)\n",
    "    buffer.write(struct.pack('<i', size-8))\n",
    "    \n",
    "    val = buffer.getvalue()\n",
    "    \n",
    "    src = \"\"\"\n",
    "    <head>\n",
    "    <meta http-equiv=\"Content-Type\" content=\"text/html; charset=utf-8\">\n",
    "    <title>Simple Test</title>\n",
    "    </head>\n",
    "    \n",
    "    <body>\n",
    "    <audio controls=\"controls\" style=\"width:600px\" >\n",
    "      <source controls src=\"data:audio/wav;base64,{base64}\" type=\"audio/wav\" />\n",
    "      Your browser does not support the audio element.\n",
    "    </audio>\n",
    "    </body>\n",
    "    \"\"\".format(base64=base64.encodestring(val))\n",
    "    display(HTML(src))"
   ]
  },
  {
   "cell_type": "code",
   "execution_count": null,
   "metadata": {
    "collapsed": false
   },
   "outputs": [],
   "source": [
    "## some consstant for our audio file \n",
    "\n",
    "rate = 44100 #44.1 khz\n",
    "duration =2.5 # in sec\n",
    "\n",
    "# this will give us sin with the righ amplitude to use with wav files\n",
    "normedsin = lambda f,t : 2**13*sin(2*pi*f*t)\n",
    "\n",
    "time = np.linspace(0,duration, num=rate*duration)"
   ]
  },
  {
   "cell_type": "markdown",
   "metadata": {},
   "source": [
    "# Test the wav Player\n",
    "\n",
    "let's try to first just play an A (440 Hz)."
   ]
  },
  {
   "cell_type": "code",
   "execution_count": null,
   "metadata": {
    "collapsed": false
   },
   "outputs": [],
   "source": [
    "from __future__ import division, print_function, absolute_import\n",
    "\n",
    "import numpy\n",
    "import struct\n",
    "import warnings    "
   ]
  },
  {
   "cell_type": "code",
   "execution_count": null,
   "metadata": {
    "collapsed": false
   },
   "outputs": [],
   "source": [
    "# define A as a 440 Hz sin function \n",
    "la    = lambda t : normedsin(440,t)\n",
    "\n",
    "# look at it on the first 25 ms\n",
    "plot(time[0:1000], la(time)[0:1000])\n",
    "\n",
    "ampl = la(time).astype(np.int16)\n",
    "\n",
    "# write the file on disk, and show in in a Html 5 audio player\n",
    "wavPlayer(ampl, rate)"
   ]
  },
  {
   "cell_type": "markdown",
   "metadata": {},
   "source": [
    "The differents frequencies emmited by an hydrogen atom is given by the rydberg formulae :\n",
    "\n",
    "$$ {1 \\over \\lambda}  = R \\left({1\\over n_1}-{1\\over n_2}\\right) $$\n",
    "\n",
    "Which gives a similar relation on the emitted frequencies of the Hydrogen :\n",
    "\n",
    "$$ f_{n,m}={c \\over \\lambda}  = {R_h\\over h} \\left({1\\over n}-{1\\over m}\\right) $$\n",
    "\n",
    "for $n=1$ we've got the Lyman series, and for $n=2$ we have the Balmer series"
   ]
  },
  {
   "cell_type": "code",
   "execution_count": null,
   "metadata": {
    "collapsed": false
   },
   "outputs": [],
   "source": [
    "# fondamental frequency of hydrogen\n",
    "f0 = const.Rydberg*const.c\n",
    "print(\"The highest frequency of hydrogen is \",f0,\"Hz. and correspond to n = 1, m = ∞\")\n",
    "fshift = 440\n",
    "print(\"we can shift the spectrum for it to be at 440 Hz (A)\")"
   ]
  },
  {
   "cell_type": "code",
   "execution_count": null,
   "metadata": {
    "collapsed": false
   },
   "outputs": [],
   "source": [
    "ryd = lambda n,m : fshift*(1/(n**2) -1/(m**2))\n",
    "flyman = lambda x : ryd(1,x)\n",
    "fbalmer = lambda x : ryd(2,x)"
   ]
  },
  {
   "cell_type": "code",
   "execution_count": null,
   "metadata": {
    "collapsed": true
   },
   "outputs": [],
   "source": [
    "## define the sum, \n",
    "ser = lambda t : sum( [normedsin(flyman(i),t)+normedsin(fbalmer(i+1),t) for i in range(2,8)])\n",
    "\n",
    "# and a verorialized function to work on a by element basis with matlab\n",
    "serv = scipy.vectorize(ser)"
   ]
  },
  {
   "cell_type": "code",
   "execution_count": null,
   "metadata": {
    "collapsed": false
   },
   "outputs": [],
   "source": [
    "ss = serv(time)"
   ]
  },
  {
   "cell_type": "code",
   "execution_count": null,
   "metadata": {
    "collapsed": false
   },
   "outputs": [],
   "source": [
    "plot(time,ss)\n",
    "ss = 2**15*ss/ ss.max()"
   ]
  },
  {
   "cell_type": "code",
   "execution_count": null,
   "metadata": {
    "collapsed": false
   },
   "outputs": [],
   "source": [
    "#wavfile.write('hydrogen.wav', rate, ss.astype(np.int16))\n",
    "wavPlayer(ss.astype(np.int16),rate)"
   ]
  },
  {
   "cell_type": "markdown",
   "metadata": {},
   "source": [
    "As always, Pull-Request and comment to fix typo and any other things are welcommed on [github](https://github.com/Carreau/posts)."
   ]
  }
 ],
 "metadata": {
  "_nbviewer": {},
  "kernelspec": {
   "display_name": "Python 2",
   "language": "python",
   "name": "python2"
  },
  "language_info": {
   "codemirror_mode": {
    "name": "ipython",
    "version": 2
   },
   "file_extension": ".py",
   "mimetype": "text/x-python",
   "name": "python",
   "nbconvert_exporter": "python",
   "pygments_lexer": "ipython2",
   "version": "2.7.4"
  }
 },
 "nbformat": 4,
 "nbformat_minor": 0
}
